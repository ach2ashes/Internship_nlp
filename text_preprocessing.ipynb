{
 "cells": [
  {
   "cell_type": "markdown",
   "metadata": {},
   "source": [
    "<div style=\"font-size:1.5em\">\n",
    "    <p>📜 Table des matières:</p>\n",
    "    <ul>\n",
    "       <li><a href=\"#nltk\">Text Preprocessing with NLTK</a></li>  \n",
    "       <li>\n",
    "          <a href=\"#spacy\">Text Preprocessing with spaCy</a>\n",
    "       </li>\n",
    "       <li>\n",
    "          <a href=\"#ner\">Definig NER for nltk and spacy</a>\n",
    "       </li>\n",
    "       <li><a href=\"#comp\">Comparing NER before/After preprocessing</a>\n",
    "       <li><a href=\"#param\">testing preprocessing filters</a></li>\n",
    "       </li>\n",
    "    </ul>\n",
    "</div>"
   ]
  },
  {
   "cell_type": "markdown",
   "metadata": {},
   "source": [
    "<h1 id =\"nltk\">Text Preprocessing with NLTK</h1>"
   ]
  },
  {
   "cell_type": "code",
   "execution_count": 1,
   "metadata": {},
   "outputs": [
    {
     "name": "stderr",
     "output_type": "stream",
     "text": [
      "[nltk_data] Downloading package stopwords to\n",
      "[nltk_data]     C:\\Users\\PC2\\AppData\\Roaming\\nltk_data...\n",
      "[nltk_data]   Package stopwords is already up-to-date!\n",
      "[nltk_data] Downloading package punkt to\n",
      "[nltk_data]     C:\\Users\\PC2\\AppData\\Roaming\\nltk_data...\n",
      "[nltk_data]   Package punkt is already up-to-date!\n",
      "[nltk_data] Downloading package words to\n",
      "[nltk_data]     C:\\Users\\PC2\\AppData\\Roaming\\nltk_data...\n",
      "[nltk_data]   Package words is already up-to-date!\n",
      "[nltk_data] Downloading package wordnet to\n",
      "[nltk_data]     C:\\Users\\PC2\\AppData\\Roaming\\nltk_data...\n",
      "[nltk_data]   Package wordnet is already up-to-date!\n"
     ]
    },
    {
     "name": "stdout",
     "output_type": "stream",
     "text": [
      "gisevciconia zero solution objet ordre virement Monsieur habit compte :_rib: 022 222 222 172 22 29576475 53 set agilisys zero solution swift agilamcxxx virer montant 89 250,00 dirais (quatre-vingt-neuf mille deux cent cinquante dirais de profit i parler export switzerland ian chez 0483 555 555 0266600 0 swift creschzz80a motif 22a005 signature agilisys industrie sara siège social angle na rue ibn aisha boulevard abdelkrim el khattabi millimètre pari haan étage appât nana gueulez amarrakech tu +212 (0) 999 99 6161 f +212 (0) 999 999 130 sara capital 500.000 000 des rcna35 33 if na 3939333 tina 3939 cnss:939 mt-103-stp 2838383393 et point pote trot cc cs con instance type and transmission de original receive from\n"
     ]
    }
   ],
   "source": [
    "#import libraries\n",
    "import nltk\n",
    "from nltk.stem import WordNetLemmatizer\n",
    "from nltk.tokenize import WhitespaceTokenizer , TreebankWordTokenizer,WordPunctTokenizer,word_tokenize\n",
    "from nltk.corpus import stopwords\n",
    "import string\n",
    "import contractions\n",
    "from spellchecker import SpellChecker\n",
    "import re\n",
    "from french_lefff_lemmatizer.french_lefff_lemmatizer import FrenchLefffLemmatizer\n",
    "import unicodedata\n",
    "from langdetect import detect\n",
    "from itertools import chain , combinations\n",
    "nltk.download('stopwords')\n",
    "nltk.download('punkt')\n",
    "nltk.download('words')\n",
    "nltk.download('wordnet')\n",
    "\n",
    "def remove_urls(text):\n",
    "    url_pattern = re.compile(r'https?://\\S+|www\\.\\S+')\n",
    "    return url_pattern.sub(r'', text)\n",
    "\n",
    "def remove_accented_chars(text):\n",
    "    new_text = unicodedata.normalize('NFKD', text).encode('ascii', 'ignore').decode('utf-8', 'ignore')\n",
    "    return new_text\n",
    "\n",
    "\n",
    "def text_preprocessing(text,accented=True,stopw=True,punctuation=True,lowercase=True,lemmatize=True,spelling=True,expand_contraction=True,urls=True):\n",
    "    if detect(text)=='en':\n",
    "        stopword =stopwords.words('english')\n",
    "        lemmatizer = WordNetLemmatizer()\n",
    "        spell = SpellChecker()\n",
    "    else :#if lang=\"french\"\n",
    "        stopword = stopwords.words('french')\n",
    "        lemmatizer = FrenchLefffLemmatizer()\n",
    "        spell = SpellChecker(language=\"fr\")\n",
    "    if lowercase:\n",
    "        #lowercase the text \n",
    "        text = text.lower()\n",
    "    if urls:\n",
    "        #remove urls\n",
    "        text=remove_urls(text)\n",
    "    #tokenize the text \n",
    "    tokens =WhitespaceTokenizer().tokenize(text)\n",
    "    if expand_contraction:\n",
    "        #expand contractions\n",
    "        tokens = [contractions.fix(token) for token in tokens]\n",
    "    if punctuation:\n",
    "        #remove punctuation\n",
    "        tokens = [token for token in tokens if token not in string.punctuation]\n",
    "    if stopw:\n",
    "        #remove stopwords\n",
    "        tokens = [token for token in tokens if token not in stopword]\n",
    "    if accented:\n",
    "        tokens = [remove_accented_chars(token) for token in tokens]\n",
    "    if spelling:\n",
    "        #spell check:\n",
    "        tokens = [spell.correction(token) for token in tokens]\n",
    "    if lemmatize:\n",
    "        #lemmatization : \n",
    "        tokens = [lemmatizer.lemmatize(token) for token in tokens]\n",
    "    return ' '.join(word for word in tokens)\n",
    "\n",
    "    #Some tests:\n",
    "file = 'C:/Users/PC2/Downloads/test-ex.txt'\n",
    "f=open(file,'r')\n",
    "data = f.read()\n",
    "print(text_preprocessing(data))\n"
   ]
  },
  {
   "cell_type": "markdown",
   "metadata": {},
   "source": [
    "<h1 id =\"spacy\">Text Preprocessing with spaCy</h1>"
   ]
  },
  {
   "cell_type": "code",
   "execution_count": 2,
   "metadata": {},
   "outputs": [
    {
     "name": "stdout",
     "output_type": "stream",
     "text": [
      " Gisevciconia  aero solutions  Objet  ordre virement  monsieur   dÃ  bit compte  _ rib  022 222 222 172 22 29576475 53  swt  agilisy aero solution  SWIFT  agilamcxx   virer montant  89 25000 Dirhams  quatrevingtneuf Dirhams     profit  CARLEX export Switzerland  IBAN  ch35 0483 555 555 0266600 0  SWIFT  creschzz80a  Motif  22A005  Signature   agilisy industrier sarl  SiÃ  ge social  Angle nÂ degré 2 rue ibn aicha bd Abdelkrim el khattabi imm Paris 2Â degré â  ã  tage appt nâ degré 23 gueliz âmarrakech  t  212  0  999 99 6161 l f  212  0  999 999 130   sarl capital 500000 000 dhs  RCNÂ degré 35 33  IF nâ degré 3939333  tpnâ degré 3939  cnss939  mt103stp 2838383393  mt Print   poet trot ccc cs econ instance type and transmission   Original received from \n"
     ]
    }
   ],
   "source": [
    "\n",
    "#Now we ll do preprocessing using mainly spacy\n",
    "import spacy\n",
    "#load only french and english models tokenizers\n",
    "nlp_en = spacy.load(\"en_core_web_sm\", disable=['parser', 'tagger', 'ner'])\n",
    "nlp_fr = spacy.load(\"fr_core_news_sm\", disable=['parser', 'tagger', 'ner'])\n",
    "\n",
    "def spacy_preprocessing(text,lowercase=True,stopw=True,punctuation=True,alphabetic=True,lemmatize=True,):\n",
    "    if detect(text)==\"en\":\n",
    "        nlp = nlp_en\n",
    "    else :\n",
    "        nlp = nlp_fr\n",
    "    if lowercase:\n",
    "        text = text.lower()\n",
    "    remove_accented_chars(text)\n",
    "    #tokenize with spacy's default tokenizer\n",
    "    tokens = nlp(text)\n",
    "    if stopw :\n",
    "        tokens = [token for token in tokens if not token.is_stop]\n",
    "    if lemmatize :\n",
    "        tokens = [token.lemma_.strip() for token in tokens]\n",
    "    if punctuation :\n",
    "        tokens = [re.sub('<[^>]*>', '', token) for token in tokens]\n",
    "    if alphabetic:\n",
    "        tokens = [re.sub('[\\W]+','',token) for token in tokens]\n",
    "    return ' '.join(word for word in tokens)\n",
    "\n",
    "file = 'C:/Users/PC2/Downloads/test-ex.txt'\n",
    "f=open(file,'r')\n",
    "data = f.read()\n",
    "print(spacy_preprocessing(data,lowercase=False))"
   ]
  },
  {
   "cell_type": "markdown",
   "metadata": {},
   "source": [
    "<h1 id =\"ner\">Definig NER for nltk and spacy</h1>"
   ]
  },
  {
   "cell_type": "code",
   "execution_count": 3,
   "metadata": {},
   "outputs": [],
   "source": [
    "import spacy"
   ]
  },
  {
   "cell_type": "code",
   "execution_count": 4,
   "metadata": {},
   "outputs": [],
   "source": [
    "def ner_nltk(text):\n",
    "    assert detect(text) =='en' 'text should be english to be parsed with nltk'\n",
    "    tokens = word_tokenize(text)\n",
    "    tagged_tokens  = nltk.pos_tag(tokens)\n",
    "    chunked = nltk.ne_chunk(tagged_tokens)\n",
    "    for chunk in chunked : \n",
    "        if hasattr(chunk,\"label\") and chunk.label == \"NE\":\n",
    "            print(chunk)"
   ]
  },
  {
   "cell_type": "code",
   "execution_count": 5,
   "metadata": {},
   "outputs": [],
   "source": [
    "def ner_spacy(text):\n",
    "    if detect(text) == \"en\":\n",
    "        ner  = spacy.load(\"en_core_web_sm\",disable=[\"tagger\",\"parser\"])\n",
    "    else:\n",
    "        ner  = spacy.load(\"fr_core_news_sm\",disable=[\"tagger\",\"parser\"])\n",
    "    labels = ner.get_pipe(\"ner\").labels\n",
    "    return ner(text).ents,labels\n"
   ]
  },
  {
   "cell_type": "markdown",
   "metadata": {},
   "source": [
    "<h1 id =\"comp\">Comparing results before\\after preprocessing</h1>"
   ]
  },
  {
   "cell_type": "code",
   "execution_count": 6,
   "metadata": {},
   "outputs": [],
   "source": [
    "#preprocessed_nltk=text_preprocessing(data)\n",
    "#ner_spacy(preprocessed_nltk)"
   ]
  },
  {
   "cell_type": "markdown",
   "metadata": {},
   "source": [
    "<h2 id=\"param\">Testing preprocessing filters</h2>"
   ]
  },
  {
   "cell_type": "code",
   "execution_count": 7,
   "metadata": {},
   "outputs": [],
   "source": [
    "from itertools import chain , combinations\n",
    "def powerset(iterable): # return all possible subsets of iterable\n",
    "    s = list(iterable)\n",
    "    return list(chain.from_iterable(combinations(s, r) for r in range(len(s)+1)))\n",
    "\n",
    "list_of_params=[\"accented\",\"stopw\",\"punctuation\",\"lowercase\",\"lemmatize\",\"spelling\",\"expand_contraction\",\"urls\"] \n",
    "dict_of_params=dict.fromkeys(list_of_params,[True])\n",
    "\n",
    "def filter_combinations(params):#return all the possible filter combinations, param; list of parametrs with a default value\n",
    "    list_of_combs = []\n",
    "    combs=powerset([i for i in range(len(params)) ])\n",
    "    for comb in combs:\n",
    "        initial_conf = [True for i in range(len(params))]\n",
    "        if len(comb)==0 :\n",
    "            list_of_combs.append(params)\n",
    "        else:\n",
    "            for i in comb:\n",
    "                initial_conf[i]=False\n",
    "            list_of_combs.append(initial_conf)\n",
    "    return list_of_combs"
   ]
  },
  {
   "cell_type": "code",
   "execution_count": 8,
   "metadata": {},
   "outputs": [],
   "source": [
    "\n",
    "from tabulate import tabulate\n",
    "columns = []\n",
    "columns.extend(list_of_params)\n",
    "ff=filter_combinations(list_of_params)\n",
    "def results(text,preprocessing_function):\n",
    "    table=[]\n",
    "    labels = ner_spacy(text)[1]\n",
    "    columns.extend(labels)\n",
    "    for comb in ff:#comb is a combinations of active filters \n",
    "        preprocessed_text=preprocessing_function(text,*comb)\n",
    "        entities = ner_spacy(preprocessed_text)[0]\n",
    "        dictionn = dict.fromkeys(labels,0)\n",
    "        for ent in entities:\n",
    "            for key in dictionn.keys():\n",
    "                if ent.label_==key:\n",
    "                    dictionn[key]+=1\n",
    "        comb.extend(dictionn.values())\n",
    "        table.append(comb)\n",
    "    \n",
    "       \n",
    "        \n",
    "    return tabulate(table,headers=columns)\n",
    "\n",
    "\n"
   ]
  },
  {
   "cell_type": "code",
   "execution_count": 9,
   "metadata": {},
   "outputs": [
    {
     "name": "stderr",
     "output_type": "stream",
     "text": [
      "c:\\Users\\PC2\\anaconda3\\lib\\site-packages\\spacy\\pipeline\\lemmatizer.py:211: UserWarning: [W108] The rule-based lemmatizer did not find POS annotation for one or more tokens. Check that your pipeline includes components that assign token.pos, typically 'tagger'+'attribute_ruler' or 'morphologizer'.\n",
      "  warnings.warn(Warnings.W108)\n"
     ]
    },
    {
     "data": {
      "text/plain": [
       "'accented    stopw    punctuation    lowercase    lemmatize    spelling    expand_contraction    urls      LOC    MISC    ORG    PER\\n----------  -------  -------------  -----------  -----------  ----------  --------------------  ------  -----  ------  -----  -----\\naccented    stopw    punctuation    lowercase    lemmatize    spelling    expand_contraction    urls        0       3      2      2\\nFalse       True     True           True         True         True        True                  True        1       3      2      1\\nTrue        False    True           True         True         True        True                  True        1       3      0      4\\nTrue        True     False          True         True         True        True                  True        0       2      2      3\\nTrue        True     True           False        True         True        True                  True        2       4      2      3\\nTrue        True     True           True         False        True        True                  True        0       4      0      2\\nTrue        True     True           True         True         False       True                  True        0       0      5      0\\nTrue        True     True           True         True         True        False                 True        0       3      2      2\\nTrue        True     True           True         True         True        True                  False       0       3      2      2\\nFalse       False    True           True         True         True        True                  True        2       3      0      3\\nFalse       True     False          True         True         True        True                  True        1       3      3      1\\nFalse       True     True           False        True         True        True                  True        2       3      5      1\\nFalse       True     True           True         False        True        True                  True        1       4      0      1\\nFalse       True     True           True         True         False       True                  True        1       2      3      2\\nFalse       True     True           True         True         True        False                 True        1       3      2      1\\nFalse       True     True           True         True         True        True                  False       1       3      2      1\\nTrue        False    False          True         True         True        True                  True        1       2      1      3\\nTrue        False    True           False        True         True        True                  True        2       4      1      4\\nTrue        False    True           True         False        True        True                  True        1       4      0      3\\nTrue        False    True           True         True         False       True                  True        2       2      1      4\\nTrue        False    True           True         True         True        False                 True        1       3      0      4\\nTrue        False    True           True         True         True        True                  False       1       3      0      4\\nTrue        True     False          False        True         True        True                  True        1       4      2      3\\nTrue        True     False          True         False        True        True                  True        0       3      0      2\\nTrue        True     False          True         True         False       True                  True        0       0      2      0\\nTrue        True     False          True         True         True        False                 True        0       2      2      3\\nTrue        True     False          True         True         True        True                  False       0       2      2      3\\nTrue        True     True           False        False        True        True                  True        2      10      1      3\\nTrue        True     True           False        True         False       True                  True        0       0      5      0\\nTrue        True     True           False        True         True        False                 True        2       4      2      3\\nTrue        True     True           False        True         True        True                  False       2       4      2      3\\nTrue        True     True           True         False        False       True                  True        0       0      5      0\\nTrue        True     True           True         False        True        False                 True        0       4      0      2\\nTrue        True     True           True         False        True        True                  False       0       4      0      2\\nTrue        True     True           True         True         False       False                 True        0       0      5      0\\nTrue        True     True           True         True         False       True                  False       1       2      2      2\\nTrue        True     True           True         True         True        False                 False       0       3      2      2\\nFalse       False    False          True         True         True        True                  True        2       3      2      2\\nFalse       False    True           False        True         True        True                  True        2       3      4      3\\nFalse       False    True           True         False        True        True                  True        1       4      0      2\\nFalse       False    True           True         True         False       True                  True        2       2      2      3\\nFalse       False    True           True         True         True        False                 True        2       3      0      3\\nFalse       False    True           True         True         True        True                  False       2       3      0      3\\nFalse       True     False          False        True         True        True                  True        1       3      5      1\\nFalse       True     False          True         False        True        True                  True        1       4      1      1\\nFalse       True     False          True         True         False       True                  True        2       4      2      2\\nFalse       True     False          True         True         True        False                 True        1       3      3      1\\nFalse       True     False          True         True         True        True                  False       1       3      3      1\\nFalse       True     True           False        False        True        True                  True        2       8      4      3\\nFalse       True     True           False        True         False       True                  True        5       5      2      3\\nFalse       True     True           False        True         True        False                 True        2       3      5      1\\nFalse       True     True           False        True         True        True                  False       2       3      5      1\\nFalse       True     True           True         False        False       True                  True        1       1      2      2\\nFalse       True     True           True         False        True        False                 True        1       4      0      1\\nFalse       True     True           True         False        True        True                  False       1       4      0      1\\nFalse       True     True           True         True         False       False                 True        1       2      3      2\\nFalse       True     True           True         True         False       True                  False       1       2      3      2\\nFalse       True     True           True         True         True        False                 False       1       3      2      1\\nTrue        False    False          False        True         True        True                  True        1       4      2      3\\nTrue        False    False          True         False        True        True                  True        1       3      0      3\\nTrue        False    False          True         True         False       True                  True        3       2      2      2\\nTrue        False    False          True         True         True        False                 True        1       2      1      3\\nTrue        False    False          True         True         True        True                  False       1       2      1      3\\nTrue        False    True           False        False        True        True                  True        5       9      1      2\\nTrue        False    True           False        True         False       True                  True        2       7      1      3\\nTrue        False    True           False        True         True        False                 True        2       4      1      4\\nTrue        False    True           False        True         True        True                  False       2       4      1      4\\nTrue        False    True           True         False        False       True                  True        2       1      1      3\\nTrue        False    True           True         False        True        False                 True        1       4      0      3\\nTrue        False    True           True         False        True        True                  False       1       4      0      3\\nTrue        False    True           True         True         False       False                 True        2       2      1      4\\nTrue        False    True           True         True         False       True                  False       2       2      1      4\\nTrue        False    True           True         True         True        False                 False       1       3      0      4\\nTrue        True     False          False        False        True        True                  True        2      10      1      3\\nTrue        True     False          False        True         False       True                  True        0       0      6      0\\nTrue        True     False          False        True         True        False                 True        1       4      2      3\\nTrue        True     False          False        True         True        True                  False       1       4      2      3\\nTrue        True     False          True         False        False       True                  True        2       2      1      1\\nTrue        True     False          True         False        True        False                 True        0       3      0      2\\nTrue        True     False          True         False        True        True                  False       0       3      0      2\\nTrue        True     False          True         True         False       False                 True        0       0      2      0\\nTrue        True     False          True         True         False       True                  False       0       0      2      0\\nTrue        True     False          True         True         True        False                 False       0       2      2      3\\nTrue        True     True           False        False        False       True                  True        0       0      7      0\\nTrue        True     True           False        False        True        False                 True        2      10      1      3\\nTrue        True     True           False        False        True        True                  False       2      10      1      3\\nTrue        True     True           False        True         False       False                 True        0       0      5      0\\nTrue        True     True           False        True         False       True                  False       0       0      5      0\\nTrue        True     True           False        True         True        False                 False       2       4      2      3\\nTrue        True     True           True         False        False       False                 True        0       0      5      0\\nTrue        True     True           True         False        False       True                  False       0       0      5      0\\nTrue        True     True           True         False        True        False                 False       0       4      0      2\\nTrue        True     True           True         True         False       False                 False       0       0      5      0\\nFalse       False    False          False        True         True        True                  True        1       3      5      2\\nFalse       False    False          True         False        True        True                  True        1       4      1      2\\nFalse       False    False          True         True         False       True                  True        3       4      2      2\\nFalse       False    False          True         True         True        False                 True        2       3      2      2\\nFalse       False    False          True         True         True        True                  False       2       3      2      2\\nFalse       False    True           False        False        True        True                  True        5       7      4      3\\nFalse       False    True           False        True         False       True                  True        6       5      2      2\\nFalse       False    True           False        True         True        False                 True        2       3      4      3\\nFalse       False    True           False        True         True        True                  False       2       3      4      3\\nFalse       False    True           True         False        False       True                  True        1       1      2      2\\nFalse       False    True           True         False        True        False                 True        1       4      0      2\\nFalse       False    True           True         False        True        True                  False       1       4      0      2\\nFalse       False    True           True         True         False       False                 True        2       2      2      3\\nFalse       False    True           True         True         False       True                  False       2       2      2      3\\nFalse       False    True           True         True         True        False                 False       2       3      0      3\\nFalse       True     False          False        False        True        True                  True        2       7      3      4\\nFalse       True     False          False        True         False       True                  True        5       4      4      2\\nFalse       True     False          False        True         True        False                 True        1       3      5      1\\nFalse       True     False          False        True         True        True                  False       1       3      5      1\\nFalse       True     False          True         False        False       True                  True        2       2      1      2\\nFalse       True     False          True         False        True        False                 True        1       4      1      1\\nFalse       True     False          True         False        True        True                  False       1       4      1      1\\nFalse       True     False          True         True         False       False                 True        2       4      2      2\\nFalse       True     False          True         True         False       True                  False       2       4      2      2\\nFalse       True     False          True         True         True        False                 False       1       3      3      1\\nFalse       True     True           False        False        False       True                  True        0       0      7      0\\nFalse       True     True           False        False        True        False                 True        2       8      4      3\\nFalse       True     True           False        False        True        True                  False       2       8      4      3\\nFalse       True     True           False        True         False       False                 True        5       5      2      3\\nFalse       True     True           False        True         False       True                  False       0       0      6      0\\nFalse       True     True           False        True         True        False                 False       2       3      5      1\\nFalse       True     True           True         False        False       False                 True        1       1      2      2\\nFalse       True     True           True         False        False       True                  False       1       1      2      2\\nFalse       True     True           True         False        True        False                 False       1       4      0      1\\nFalse       True     True           True         True         False       False                 False       0       0      7      0\\nTrue        False    False          False        False        True        True                  True        5       8      1      2\\nTrue        False    False          False        True         False       True                  True        3       7      2      2\\nTrue        False    False          False        True         True        False                 True        1       4      2      3\\nTrue        False    False          False        True         True        True                  False       1       4      2      3\\nTrue        False    False          True         False        False       True                  True        3       1      1      2\\nTrue        False    False          True         False        True        False                 True        1       3      0      3\\nTrue        False    False          True         False        True        True                  False       1       3      0      3\\nTrue        False    False          True         True         False       False                 True        3       2      2      2\\nTrue        False    False          True         True         False       True                  False       3       2      2      2\\nTrue        False    False          True         True         True        False                 False       1       2      1      3\\nTrue        False    True           False        False        False       True                  True        5      12      2      4\\nTrue        False    True           False        False        True        False                 True        5       9      1      2\\nTrue        False    True           False        False        True        True                  False       5       9      1      2\\nTrue        False    True           False        True         False       False                 True        2       7      1      3\\nTrue        False    True           False        True         False       True                  False       2       7      1      3\\nTrue        False    True           False        True         True        False                 False       2       4      1      4\\nTrue        False    True           True         False        False       False                 True        2       1      1      3\\nTrue        False    True           True         False        False       True                  False       2       1      1      3\\nTrue        False    True           True         False        True        False                 False       1       4      0      3\\nTrue        False    True           True         True         False       False                 False       2       2      1      4\\nTrue        True     False          False        False        False       True                  True        0       0      9      0\\nTrue        True     False          False        False        True        False                 True        2      10      1      3\\nTrue        True     False          False        False        True        True                  False       2      10      1      3\\nTrue        True     False          False        True         False       False                 True        0       0      6      0\\nTrue        True     False          False        True         False       True                  False       0       0      6      0\\nTrue        True     False          False        True         True        False                 False       1       4      2      3\\nTrue        True     False          True         False        False       False                 True        2       2      1      1\\nTrue        True     False          True         False        False       True                  False       0       0      2      0\\nTrue        True     False          True         False        True        False                 False       0       3      0      2\\nTrue        True     False          True         True         False       False                 False       0       0      2      0\\nTrue        True     True           False        False        False       False                 True        0       0      7      0\\nTrue        True     True           False        False        False       True                  False       0       0      7      0\\nTrue        True     True           False        False        True        False                 False       2      10      1      3\\nTrue        True     True           False        True         False       False                 False       0       0      5      0\\nTrue        True     True           True         False        False       False                 False       0       0      5      0\\nFalse       False    False          False        False        True        True                  True        5       6      3      4\\nFalse       False    False          False        True         False       True                  True        6       5      4      1\\nFalse       False    False          False        True         True        False                 True        1       3      5      2\\nFalse       False    False          False        True         True        True                  False       1       3      5      2\\nFalse       False    False          True         False        False       True                  True        2       2      1      2\\nFalse       False    False          True         False        True        False                 True        1       4      1      2\\nFalse       False    False          True         False        True        True                  False       1       4      1      2\\nFalse       False    False          True         True         False       False                 True        3       4      2      2\\nFalse       False    False          True         True         False       True                  False       3       4      2      2\\nFalse       False    False          True         True         True        False                 False       2       3      2      2\\nFalse       False    True           False        False        False       True                  True        7      10      2      4\\nFalse       False    True           False        False        True        False                 True        5       7      4      3\\nFalse       False    True           False        False        True        True                  False       5       7      4      3\\nFalse       False    True           False        True         False       False                 True        6       5      2      2\\nFalse       False    True           False        True         False       True                  False       6       5      2      2\\nFalse       False    True           False        True         True        False                 False       2       3      4      3\\nFalse       False    True           True         False        False       False                 True        1       1      2      2\\nFalse       False    True           True         False        False       True                  False       1       1      2      2\\nFalse       False    True           True         False        True        False                 False       1       4      0      2\\nFalse       False    True           True         True         False       False                 False       2       2      2      3\\nFalse       True     False          False        False        False       True                  True        0       0      9      0\\nFalse       True     False          False        False        True        False                 True        2       7      3      4\\nFalse       True     False          False        False        True        True                  False       2       7      3      4\\nFalse       True     False          False        True         False       False                 True        5       4      4      2\\nFalse       True     False          False        True         False       True                  False       0       0      6      0\\nFalse       True     False          False        True         True        False                 False       1       3      5      1\\nFalse       True     False          True         False        False       False                 True        2       2      1      2\\nFalse       True     False          True         False        False       True                  False       0       0      6      0\\nFalse       True     False          True         False        True        False                 False       1       4      1      1\\nFalse       True     False          True         True         False       False                 False       0       0      6      0\\nFalse       True     True           False        False        False       False                 True        0       0      7      0\\nFalse       True     True           False        False        False       True                  False       0       0      7      0\\nFalse       True     True           False        False        True        False                 False       2       8      4      3\\nFalse       True     True           False        True         False       False                 False       5       5      2      3\\nFalse       True     True           True         False        False       False                 False       0       0      7      0\\nTrue        False    False          False        False        False       True                  True        6      12      2      5\\nTrue        False    False          False        False        True        False                 True        5       8      1      2\\nTrue        False    False          False        False        True        True                  False       5       8      1      2\\nTrue        False    False          False        True         False       False                 True        3       7      2      2\\nTrue        False    False          False        True         False       True                  False       3       7      2      2\\nTrue        False    False          False        True         True        False                 False       1       4      2      3\\nTrue        False    False          True         False        False       False                 True        3       1      1      2\\nTrue        False    False          True         False        False       True                  False       3       1      1      2\\nTrue        False    False          True         False        True        False                 False       1       3      0      3\\nTrue        False    False          True         True         False       False                 False       3       2      2      2\\nTrue        False    True           False        False        False       False                 True        5      12      2      4\\nTrue        False    True           False        False        False       True                  False       5      12      2      4\\nTrue        False    True           False        False        True        False                 False       5       9      1      2\\nTrue        False    True           False        True         False       False                 False       2       7      1      3\\nTrue        False    True           True         False        False       False                 False       2       1      1      3\\nTrue        True     False          False        False        False       False                 True        0       0      9      0\\nTrue        True     False          False        False        False       True                  False       0       0      9      0\\nTrue        True     False          False        False        True        False                 False       2      10      1      3\\nTrue        True     False          False        True         False       False                 False       0       0      6      0\\nTrue        True     False          True         False        False       False                 False       0       0      2      0\\nTrue        True     True           False        False        False       False                 False       0       0      7      0\\nFalse       False    False          False        False        False       True                  True        8      10      2      4\\nFalse       False    False          False        False        True        False                 True        5       6      3      4\\nFalse       False    False          False        False        True        True                  False       5       6      3      4\\nFalse       False    False          False        True         False       False                 True        6       5      4      1\\nFalse       False    False          False        True         False       True                  False       6       5      4      1\\nFalse       False    False          False        True         True        False                 False       1       3      5      2\\nFalse       False    False          True         False        False       False                 True        2       2      1      2\\nFalse       False    False          True         False        False       True                  False       2       2      1      2\\nFalse       False    False          True         False        True        False                 False       1       4      1      2\\nFalse       False    False          True         True         False       False                 False       3       4      2      2\\nFalse       False    True           False        False        False       False                 True        7      10      2      4\\nFalse       False    True           False        False        False       True                  False       7      10      2      4\\nFalse       False    True           False        False        True        False                 False       5       7      4      3\\nFalse       False    True           False        True         False       False                 False       6       5      2      2\\nFalse       False    True           True         False        False       False                 False       1       1      2      2\\nFalse       True     False          False        False        False       False                 True        0       0      9      0\\nFalse       True     False          False        False        False       True                  False       0       0      9      0\\nFalse       True     False          False        False        True        False                 False       2       7      3      4\\nFalse       True     False          False        True         False       False                 False       5       4      4      2\\nFalse       True     False          True         False        False       False                 False       2       2      1      2\\nFalse       True     True           False        False        False       False                 False       0       0      7      0\\nTrue        False    False          False        False        False       False                 True        6      12      2      5\\nTrue        False    False          False        False        False       True                  False       6      12      2      5\\nTrue        False    False          False        False        True        False                 False       5       8      1      2\\nTrue        False    False          False        True         False       False                 False       6      12      2      5\\nTrue        False    False          True         False        False       False                 False       3       1      1      2\\nTrue        False    True           False        False        False       False                 False       5      12      2      4\\nTrue        True     False          False        False        False       False                 False       0       0      9      0\\nFalse       False    False          False        False        False       False                 True        8      10      2      4\\nFalse       False    False          False        False        False       True                  False       8      10      2      4\\nFalse       False    False          False        False        True        False                 False       5       6      3      4\\nFalse       False    False          False        True         False       False                 False       6       5      4      1\\nFalse       False    False          True         False        False       False                 False       2       2      1      2\\nFalse       False    True           False        False        False       False                 False       7      10      2      4\\nFalse       True     False          False        False        False       False                 False       0       0      9      0\\nTrue        False    False          False        False        False       False                 False       6      12      2      5\\nFalse       False    False          False        False        False       False                 False       8      10      2      4'"
      ]
     },
     "execution_count": 9,
     "metadata": {},
     "output_type": "execute_result"
    }
   ],
   "source": [
    "results(data,text_preprocessing)"
   ]
  },
  {
   "cell_type": "code",
   "execution_count": null,
   "metadata": {},
   "outputs": [],
   "source": []
  }
 ],
 "metadata": {
  "interpreter": {
   "hash": "77b840b16efc606bfe6fe465e16c80fde01359cf425f7f37ae28958c7f375ddc"
  },
  "kernelspec": {
   "display_name": "Python 3.9.7 ('base')",
   "language": "python",
   "name": "python3"
  },
  "language_info": {
   "codemirror_mode": {
    "name": "ipython",
    "version": 3
   },
   "file_extension": ".py",
   "mimetype": "text/x-python",
   "name": "python",
   "nbconvert_exporter": "python",
   "pygments_lexer": "ipython3",
   "version": "3.9.7"
  },
  "orig_nbformat": 4
 },
 "nbformat": 4,
 "nbformat_minor": 2
}
