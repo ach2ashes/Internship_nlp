{
 "cells": [
  {
   "cell_type": "code",
   "execution_count": 214,
   "metadata": {},
   "outputs": [],
   "source": [
    "import nltk\n",
    "from nltk.stem import WordNetLemmatizer\n",
    "from nltk.tokenize import WhitespaceTokenizer, sent_tokenize , TreebankWordTokenizer,WordPunctTokenizer\n",
    "from nltk.corpus import stopwords\n",
    "import string\n",
    "import contractions\n",
    "from spellchecker import SpellChecker\n",
    "import re\n",
    "from french_lefff_lemmatizer.french_lefff_lemmatizer import FrenchLefffLemmatizer"
   ]
  },
  {
   "cell_type": "code",
   "execution_count": 215,
   "metadata": {},
   "outputs": [
    {
     "name": "stderr",
     "output_type": "stream",
     "text": [
      "[nltk_data] Downloading package stopwords to\n",
      "[nltk_data]     C:\\Users\\PC2\\AppData\\Roaming\\nltk_data...\n",
      "[nltk_data]   Package stopwords is already up-to-date!\n",
      "[nltk_data] Downloading package punkt to\n",
      "[nltk_data]     C:\\Users\\PC2\\AppData\\Roaming\\nltk_data...\n",
      "[nltk_data]   Package punkt is already up-to-date!\n",
      "[nltk_data] Downloading package words to\n",
      "[nltk_data]     C:\\Users\\PC2\\AppData\\Roaming\\nltk_data...\n",
      "[nltk_data]   Package words is already up-to-date!\n",
      "[nltk_data] Downloading package wordnet to\n",
      "[nltk_data]     C:\\Users\\PC2\\AppData\\Roaming\\nltk_data...\n",
      "[nltk_data]   Package wordnet is already up-to-date!\n"
     ]
    },
    {
     "data": {
      "text/plain": [
       "True"
      ]
     },
     "execution_count": 215,
     "metadata": {},
     "output_type": "execute_result"
    }
   ],
   "source": [
    "nltk.download('stopwords')\n",
    "nltk.download('punkt')\n",
    "nltk.download('words')\n",
    "nltk.download('wordnet')"
   ]
  },
  {
   "cell_type": "code",
   "execution_count": 216,
   "metadata": {},
   "outputs": [],
   "source": [
    "spell = SpellChecker()"
   ]
  },
  {
   "cell_type": "code",
   "execution_count": 217,
   "metadata": {},
   "outputs": [],
   "source": [
    "def remove_urls(text):\n",
    "    url_pattern = re.compile(r'https?://\\S+|www\\.\\S+')\n",
    "    return url_pattern.sub(r'', text)"
   ]
  },
  {
   "cell_type": "code",
   "execution_count": 218,
   "metadata": {},
   "outputs": [],
   "source": [
    "\n",
    "\n",
    "def text_preprocessing(text,lang,tokenizer=WhitespaceTokenizer(),stopw=True,punctuation=True,lowercase=True,lemmatize=True,spelling=True,expand_contraction=True,urls=True):\n",
    "    if lang.lower()=='english':\n",
    "        stopword =stopwords.words('english')\n",
    "        lemmatizer = WordNetLemmatizer()\n",
    "        spell = SpellChecker()\n",
    "    else :#if lang=\"french\"\n",
    "        stopword = stopwords.words('french')\n",
    "        lemmatizer = FrenchLefffLemmatizer()\n",
    "        spell = SpellChecker(language=\"fr\")\n",
    "    if lowercase==True:\n",
    "        #lowercase the text \n",
    "        text = text.lower()\n",
    "    if urls==True:\n",
    "        #remove urls\n",
    "        text=remove_urls(text)\n",
    "    #tokenize the text \n",
    "    tokens = tokenizer.tokenize(text)\n",
    "    if expand_contraction==True:\n",
    "        #expand contractions\n",
    "        tokens = [contractions.fix(token) for token in tokens]\n",
    "    if punctuation==True:\n",
    "        #remove punctuation\n",
    "        tokens = [token for token in tokens if token not in string.punctuation]\n",
    "    if stopwords==True:\n",
    "        #remove stopwords\n",
    "        tokens = [token for token in tokens if token not in stopword]\n",
    "    if spelling==True:\n",
    "        #spell check:\n",
    "        tokens = [spell.correction(token) for token in tokens]\n",
    "    if lemmatize==True:\n",
    "        #lemmatization : \n",
    "        tokens = [lemmatizer.lemmatize(token) for token in tokens]\n",
    "    return ' '.join(word for word in tokens)\n",
    "\n",
    "    \n",
    "\n"
   ]
  },
  {
   "cell_type": "code",
   "execution_count": 219,
   "metadata": {},
   "outputs": [
    {
     "data": {
      "text/plain": [
       "'\\n\\nGisevciconia\\n\\nAERO SOLUTIONS\\n\\nObjet : ordre de virement\\n\\n \\n\\nMessieurs ;\\n\\n \\nPar le dÃ©bit de notre compte :_RIB: 022 222 222 172 22 29576475 53\\n\\n \\n\\nswt\\nAGILISYS AERO SOLUTIONS\\nSWIFT: AGILAMCXXX\\n| De virer le Montant de : 89 250,00 Dirhams (Quatre-vingt-neuf Mille deux cent cinquante Dirhams ).\\n| Au profit de i\\nCARLEX Export Switzerland\\nIBAN : CH35 0483 555 555 0266600 0\\n\\nSWIFT : CRESCHZZ80A\\n\\n \\n\\nMotif : 22A005\\n\\nSignature :\\n\\n \\n\\nAGILISYS INDUSTRIES SARL | SiÃ©ge social ; Angle nÂ°2 rue ibn aicha et bd Abdelkrim el khattabi imm le Paris 2Â°â„¢* Ã©tage appt nÂ°23 Gueliz â€”Marrakech\\nT: +212 (0) 999 99 6161 l F : +212 (0) 999 999 130 !\\n\\nSARL au Capital de 500.000 000 dhs | RCNÂ°35 33 | IF nÂ° 3939333 | T.PnÂ° 3939 | CNSS:939\\nMT-103-STP 2838383393 (MT Print)\\n\\npoet trot ccc cs econ Instance Type and Transmission --\\nOriginal received from \\n\\n '"
      ]
     },
     "execution_count": 219,
     "metadata": {},
     "output_type": "execute_result"
    }
   ],
   "source": [
    "file = 'C:/Users/PC2/Downloads/test-ex.txt'\n",
    "f=open(file,'r')\n",
    "data = f.read()\n",
    "data\n",
    "#re.sub(r'\\r\\n\\s*\\r\\n', '\\r\\n', data)"
   ]
  },
  {
   "cell_type": "code",
   "execution_count": 220,
   "metadata": {},
   "outputs": [
    {
     "data": {
      "text/plain": [
       "'gisevciconia zero solution objet ordre de virement Monsieur par le débit de notre compte :_rib: 022 222 222 172 22 29576475 53 set agilisys zero solution swift agilamcxxx de virer le montant de 89 250,00 dirais (quatre-vingt-neuf mille deux cent cinquante dirais de au profit de i parler export switzerland ian chez 0483 555 555 0266600 0 swift creschzz80a motif 22a005 signature agilisys industrie sara siège social angle nâ°2 rue ibn aisha et boulevard abdelkrim el khattabi millimètre le pari 2â°â„¢* étage appât nâ°23 gueulez â€”marrakech tu +212 (0) 999 99 6161 l f +212 (0) 999 999 130 sara au capital de 500.000 000 des rcnâ°35 33 if ne 3939333 t.pnâ° 3939 cnss:939 mt-103-stp 2838383393 et point pote trot cc cs con instance type and transmission de original receive from'"
      ]
     },
     "execution_count": 220,
     "metadata": {},
     "output_type": "execute_result"
    }
   ],
   "source": [
    "text_preprocessing(data,'fre')"
   ]
  },
  {
   "cell_type": "code",
   "execution_count": 221,
   "metadata": {},
   "outputs": [
    {
     "data": {
      "text/plain": [
       "['Gisevciconia',\n",
       " 'AERO',\n",
       " 'SOLUTIONS',\n",
       " 'Objet',\n",
       " ':',\n",
       " 'ordre',\n",
       " 'de',\n",
       " 'virement',\n",
       " 'Messieurs',\n",
       " ';',\n",
       " 'Par',\n",
       " 'le',\n",
       " 'dÃ©bit',\n",
       " 'de',\n",
       " 'notre',\n",
       " 'compte',\n",
       " ':_RIB:',\n",
       " '022',\n",
       " '222',\n",
       " '222',\n",
       " '172',\n",
       " '22',\n",
       " '29576475',\n",
       " '53',\n",
       " 'swt',\n",
       " 'AGILISYS',\n",
       " 'AERO',\n",
       " 'SOLUTIONS',\n",
       " 'SWIFT:',\n",
       " 'AGILAMCXXX',\n",
       " '|',\n",
       " 'De',\n",
       " 'virer',\n",
       " 'le',\n",
       " 'Montant',\n",
       " 'de',\n",
       " ':',\n",
       " '89',\n",
       " '250,00',\n",
       " 'Dirhams',\n",
       " '(Quatre-vingt-neuf',\n",
       " 'Mille',\n",
       " 'deux',\n",
       " 'cent',\n",
       " 'cinquante',\n",
       " 'Dirhams',\n",
       " ').',\n",
       " '|',\n",
       " 'Au',\n",
       " 'profit',\n",
       " 'de',\n",
       " 'i',\n",
       " 'CARLEX',\n",
       " 'Export',\n",
       " 'Switzerland',\n",
       " 'IBAN',\n",
       " ':',\n",
       " 'CH35',\n",
       " '0483',\n",
       " '555',\n",
       " '555',\n",
       " '0266600',\n",
       " '0',\n",
       " 'SWIFT',\n",
       " ':',\n",
       " 'CRESCHZZ80A',\n",
       " 'Motif',\n",
       " ':',\n",
       " '22A005',\n",
       " 'Signature',\n",
       " ':',\n",
       " 'AGILISYS',\n",
       " 'INDUSTRIES',\n",
       " 'SARL',\n",
       " '|',\n",
       " 'SiÃ©ge',\n",
       " 'social',\n",
       " ';',\n",
       " 'Angle',\n",
       " 'nÂ°2',\n",
       " 'rue',\n",
       " 'ibn',\n",
       " 'aicha',\n",
       " 'et',\n",
       " 'bd',\n",
       " 'Abdelkrim',\n",
       " 'el',\n",
       " 'khattabi',\n",
       " 'imm',\n",
       " 'le',\n",
       " 'Paris',\n",
       " '2Â°â„¢*',\n",
       " 'Ã©tage',\n",
       " 'appt',\n",
       " 'nÂ°23',\n",
       " 'Gueliz',\n",
       " 'â€”Marrakech',\n",
       " 'T:',\n",
       " '+212',\n",
       " '(0)',\n",
       " '999',\n",
       " '99',\n",
       " '6161',\n",
       " 'l',\n",
       " 'F',\n",
       " ':',\n",
       " '+212',\n",
       " '(0)',\n",
       " '999',\n",
       " '999',\n",
       " '130',\n",
       " '!',\n",
       " 'SARL',\n",
       " 'au',\n",
       " 'Capital',\n",
       " 'de',\n",
       " '500.000',\n",
       " '000',\n",
       " 'dhs',\n",
       " '|',\n",
       " 'RCNÂ°35',\n",
       " '33',\n",
       " '|',\n",
       " 'IF',\n",
       " 'nÂ°',\n",
       " '3939333',\n",
       " '|',\n",
       " 'T.PnÂ°',\n",
       " '3939',\n",
       " '|',\n",
       " 'CNSS:939',\n",
       " 'MT-103-STP',\n",
       " '2838383393',\n",
       " '(MT',\n",
       " 'Print)',\n",
       " 'poet',\n",
       " 'trot',\n",
       " 'ccc',\n",
       " 'cs',\n",
       " 'econ',\n",
       " 'Instance',\n",
       " 'Type',\n",
       " 'and',\n",
       " 'Transmission',\n",
       " '--',\n",
       " 'Original',\n",
       " 'received',\n",
       " 'from']"
      ]
     },
     "execution_count": 221,
     "metadata": {},
     "output_type": "execute_result"
    }
   ],
   "source": [
    "WhitespaceTokenizer().tokenize(data)"
   ]
  },
  {
   "cell_type": "code",
   "execution_count": 222,
   "metadata": {},
   "outputs": [],
   "source": [
    "from spacy.lang.fr import French\n",
    "from spacy.lang.en import English\n",
    "nlp_en = spacy.load(\"en_core_web_sm\", disable=['parser', 'tagger', 'ner'])\n",
    "nlp_fr = spacy.load(\"fr_core_news_sm\", disable=['parser', 'tagger', 'ner'])\n",
    "def spacy_preprocessing(text,lang,lowercase=True,stopw=True,punctuation=True,alphabetic=True,lemmatize=True,):\n",
    "    if lang ==\"en\":\n",
    "        nlp = nlp_en\n",
    "    else :\n",
    "        nlp = nlp_fr\n",
    "    if lowercase:\n",
    "        text = text.lower()\n",
    "    #tokenize with spacy's default tokenizer\n",
    "    tokens = nlp(text)\n",
    "    if stopw :\n",
    "        tokens = [token for token in tokens if not token.is_stop]\n",
    "    if lemmatize :\n",
    "        tokens = [token.lemma_.strip() for token in tokens]\n",
    "    if punctuation :\n",
    "        tokens = [re.sub('<[^>]*>', '', token) for token in tokens]\n",
    "    if alphabetic:\n",
    "        tokens = [re.sub('[\\W]+','',token.lower()) for token in tokens]\n",
    "    return ' '.join(word for word in tokens)\n",
    "    \n",
    "    "
   ]
  },
  {
   "cell_type": "code",
   "execution_count": 227,
   "metadata": {},
   "outputs": [
    {
     "data": {
      "text/plain": [
       "' gisevciconia  aero solutions  objet  ordre virement  monsieur   dã  bit compte  _ rib  022 222 222 172 22 29576475 53  swt  agilisy aero solution  swift  agilamcxx   virer montant  89 25000 dirham  quatrevingtneuf dirham     profit  carlex export switzerland  iban  ch35 0483 555 555 0266600 0  swift  creschzz80a  motif  22a005  signature   agilisys industrie sarl  siã  ge social  angle nâ degré 2 rue ibn aicha bd abdelkrim el khattabi imm pari 2â degré â  ã  tage appt nâ degré 23 gueliz âmarrakech  t  212  0  999 99 6161 l f  212  0  999 999 130   sarl capital 500000 000 dhs  rcnâ degré 35 33  if nâ degré 3939333  tpnâ degré 3939  cnss939  mt103stp 2838383393  mt print   poet trot ccc cs econ instance type and transmission   original received from '"
      ]
     },
     "execution_count": 227,
     "metadata": {},
     "output_type": "execute_result"
    }
   ],
   "source": [
    "\n",
    "spacy_preprocessing(data,'fr')"
   ]
  },
  {
   "cell_type": "code",
   "execution_count": null,
   "metadata": {},
   "outputs": [],
   "source": []
  }
 ],
 "metadata": {
  "interpreter": {
   "hash": "77b840b16efc606bfe6fe465e16c80fde01359cf425f7f37ae28958c7f375ddc"
  },
  "kernelspec": {
   "display_name": "Python 3.9.7 ('base')",
   "language": "python",
   "name": "python3"
  },
  "language_info": {
   "codemirror_mode": {
    "name": "ipython",
    "version": 3
   },
   "file_extension": ".py",
   "mimetype": "text/x-python",
   "name": "python",
   "nbconvert_exporter": "python",
   "pygments_lexer": "ipython3",
   "version": "3.9.7"
  },
  "orig_nbformat": 4
 },
 "nbformat": 4,
 "nbformat_minor": 2
}
