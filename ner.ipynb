{
 "cells": [
  {
   "cell_type": "code",
   "execution_count": 32,
   "metadata": {},
   "outputs": [],
   "source": [
    "from text_preprocessing import spacy_preprocessing\n",
    "import spacy\n",
    "nlp = spacy.blank(\"fr\")"
   ]
  },
  {
   "cell_type": "code",
   "execution_count": 33,
   "metadata": {},
   "outputs": [],
   "source": [
    "def find_swift(text):\n",
    "    text = spacy_preprocessing(text)\n",
    "    # we use spacy s entity ruler forth matching\n",
    "    ruler = nlp.add_pipe(\"entity_ruler\")\n",
    "    patterns =[{\"label\":\"Code Swift\",\"pattern\":[{\"LOWER\":\"code\",\"OP\":\"?\"},{\"LOWER\":\"swift\"},{'IS_SPACE':True,'OP':'?'},{\"IS_PUNCT\":True,\"OP\":\"?\"},{\"TEXT\": {\"REGEX\": \"[A-Za-z0-9]+\"}}]}]\n",
    "    ruler.add_patterns(patterns)\n",
    "    tokens = nlp(text)\n",
    "    return [ent[-1] for ent in tokens.ents]\n"
   ]
  },
  {
   "cell_type": "code",
   "execution_count": 34,
   "metadata": {},
   "outputs": [
    {
     "data": {
      "text/plain": [
       "[agilamcxx, creschzz80a]"
      ]
     },
     "execution_count": 34,
     "metadata": {},
     "output_type": "execute_result"
    }
   ],
   "source": [
    "file = 'C:/Users/PC2/Downloads/test-ex.txt'\n",
    "f=open(file,'r')\n",
    "data = f.read()\n",
    "find_swift(data)\n"
   ]
  },
  {
   "cell_type": "code",
   "execution_count": null,
   "metadata": {},
   "outputs": [],
   "source": []
  }
 ],
 "metadata": {
  "kernelspec": {
   "display_name": "Python 3.9.7 ('base')",
   "language": "python",
   "name": "python3"
  },
  "language_info": {
   "codemirror_mode": {
    "name": "ipython",
    "version": 3
   },
   "file_extension": ".py",
   "mimetype": "text/x-python",
   "name": "python",
   "nbconvert_exporter": "python",
   "pygments_lexer": "ipython3",
   "version": "3.9.7"
  },
  "orig_nbformat": 4,
  "vscode": {
   "interpreter": {
    "hash": "77b840b16efc606bfe6fe465e16c80fde01359cf425f7f37ae28958c7f375ddc"
   }
  }
 },
 "nbformat": 4,
 "nbformat_minor": 2
}
