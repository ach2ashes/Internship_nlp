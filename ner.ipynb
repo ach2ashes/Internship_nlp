{
 "cells": [
  {
   "cell_type": "code",
   "execution_count": 110,
   "metadata": {},
   "outputs": [],
   "source": [
    "from text_preprocessing import spacy_preprocessing\n",
    "import spacy\n",
    "nlp = spacy.blank(\"fr\")"
   ]
  },
  {
   "cell_type": "code",
   "execution_count": 111,
   "metadata": {},
   "outputs": [],
   "source": [
    "def find_swift(text):\n",
    "    if \"entity_ruler\" not in nlp.pipe_names:\n",
    "        ruler = nlp.add_pipe(\"entity_ruler\")\n",
    "    else:\n",
    "        ruler= nlp.get_pipe(\"entity_ruler\")\n",
    "    text = spacy_preprocessing(text)\n",
    "    # we use spacy s entity ruler for matching\n",
    "    patterns =[{\"label\":\"Code Swift\",\"pattern\":[{\"LOWER\":\"code\",\"OP\":\"?\"},{\"LOWER\":\"swift\"},{'IS_SPACE':True,'OP':'?'},{\"IS_PUNCT\":True,\"OP\":\"?\"},{\"TEXT\": {\"REGEX\": \"[A-Za-z0-9]+\"}}]}]\n",
    "    ruler.add_patterns(patterns)\n",
    "    tokens = nlp(text)\n",
    "    return [ent[-1] for ent in tokens.ents]\n"
   ]
  },
  {
   "cell_type": "code",
   "execution_count": 112,
   "metadata": {},
   "outputs": [
    {
     "data": {
      "text/plain": [
       "[agilamcxx, creschzz80a]"
      ]
     },
     "execution_count": 112,
     "metadata": {},
     "output_type": "execute_result"
    }
   ],
   "source": [
    "file = 'C:/Users/PC2/Downloads/test-ex.txt'\n",
    "f=open(file,'r')\n",
    "data = f.read()\n",
    "find_swift(data)\n",
    "\n"
   ]
  },
  {
   "cell_type": "code",
   "execution_count": 113,
   "metadata": {},
   "outputs": [],
   "source": [
    "def find_imo(text):    \n",
    "    if \"entity_ruler\" not in nlp.pipe_names:\n",
    "        ruler = nlp.add_pipe(\"entity_ruler\")\n",
    "    else:\n",
    "        ruler= nlp.get_pipe(\"entity_ruler\")\n",
    "    text = spacy_preprocessing(text)\n",
    "    # we use spacy s entity ruler for matching\n",
    "    patterns =[{\"label\":\"Code IMO\",\"pattern\":[{\"LOWER\":\"code\",\"OP\":\"?\"},{\"LOWER\":\"imo\"},{'IS_SPACE':True,'OP':'?'},{\"IS_PUNCT\":True,\"OP\":\"?\"},{\"TEXT\": {\"REGEX\": \"[0-9]{7}\"}}]},{\"label\":\"Code IMO\",\"pattern\":[{\"LOWER\":\"imo\"},{'IS_SPACE':True,'OP':'?'},{\"IS_PUNCT\":True,\"OP\":\"?\"},{\"TEXT\": {\"REGEX\": \"[0-9]{7}\"}}]},{\"label\":\"Code IMO\",\"pattern\":[{\"TEXT\": {\"REGEX\": \"^(IMO|imo)[0-9]{7}\"}}]}]\n",
    "    ruler.add_patterns(patterns)\n",
    "    tokens = nlp(text)\n",
    "    return [ent[-1] for ent in tokens.ents]\n"
   ]
  },
  {
   "cell_type": "code",
   "execution_count": 114,
   "metadata": {},
   "outputs": [
    {
     "name": "stderr",
     "output_type": "stream",
     "text": [
      "c:\\Users\\PC2\\anaconda3\\lib\\site-packages\\spacy\\pipeline\\lemmatizer.py:211: UserWarning: [W108] The rule-based lemmatizer did not find POS annotation for one or more tokens. Check that your pipeline includes components that assign token.pos, typically 'tagger'+'attribute_ruler' or 'morphologizer'.\n",
      "  warnings.warn(Warnings.W108)\n"
     ]
    },
    {
     "data": {
      "text/plain": [
       "[9619907]"
      ]
     },
     "execution_count": 114,
     "metadata": {},
     "output_type": "execute_result"
    }
   ],
   "source": [
    "text='Example: IMO 9619907  After submitting IMO number with SAERCH button current or last known position of the ship will be displayed on the map'\n",
    "find_imo(text)"
   ]
  },
  {
   "cell_type": "code",
   "execution_count": null,
   "metadata": {},
   "outputs": [],
   "source": []
  }
 ],
 "metadata": {
  "kernelspec": {
   "display_name": "Python 3.9.7 ('base')",
   "language": "python",
   "name": "python3"
  },
  "language_info": {
   "codemirror_mode": {
    "name": "ipython",
    "version": 3
   },
   "file_extension": ".py",
   "mimetype": "text/x-python",
   "name": "python",
   "nbconvert_exporter": "python",
   "pygments_lexer": "ipython3",
   "version": "3.9.7"
  },
  "orig_nbformat": 4,
  "vscode": {
   "interpreter": {
    "hash": "77b840b16efc606bfe6fe465e16c80fde01359cf425f7f37ae28958c7f375ddc"
   }
  }
 },
 "nbformat": 4,
 "nbformat_minor": 2
}
