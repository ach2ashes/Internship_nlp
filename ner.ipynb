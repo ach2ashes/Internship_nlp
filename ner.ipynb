{
 "cells": [
  {
   "cell_type": "code",
   "execution_count": 41,
   "metadata": {},
   "outputs": [],
   "source": [
    "from text_preprocessing import spacy_preprocessing\n",
    "import spacy\n",
    "nlp = spacy.blank(\"fr\")"
   ]
  },
  {
   "cell_type": "code",
   "execution_count": 42,
   "metadata": {},
   "outputs": [],
   "source": [
    "def find_swift(text):\n",
    "    if \"entity_ruler\" not in nlp.pipe_names:\n",
    "        ruler = nlp.add_pipe(\"entity_ruler\")\n",
    "    else:\n",
    "        ruler= nlp.get_pipe(\"entity_ruler\")\n",
    "    text = spacy_preprocessing(text)\n",
    "    # we use spacy s entity ruler for matching\n",
    "    patterns =[\n",
    "        ## uppercases will be lower after preprocessing\n",
    "         #matches :code(optional) all words wich their lower case form is swift followed  by  space or punct and the code\n",
    "        {\"label\":\"Code Swift\",\"pattern\":[{\"LOWER\":\"code\",\"OP\":\"?\"},{\"LOWER\":\"swift\"},{'IS_SPACE':True,'OP':'?'},{\"IS_PUNCT\":True,\"OP\":\"?\"},{\"TEXT\": {\"REGEX\": \"[A-Za-z0-9]{8,11}\"}}]},\n",
    "        #matches : Swift(e)(with some possible typos) tied to the code\n",
    "        {\"label\":\"Code Swift\",\"pattern\":[{\"TEXT\": {\"REGEX\": \"(swift)[e]?[A-Za-z0-9]{8,11}\"}}]},\n",
    "        #matches abbreviations:\n",
    "        {\"label\":\"Code Swift\",\"pattern\":[{\"TEXT\": {\"REGEX\": \"^(sft|st)[e]?[A-Za-z0-9]{8,11}\"}}]},\n",
    "        # matches swift(any special character)code\n",
    "        {\"label\":\"Code Swift\",\"pattern\":[{\"TEXT\": {\"REGEX\": \"^(swift|sft|st)[e]?[!@#$%^&*()_+\\-=\\[\\]{};':'\\\\|,.<>\\/?][A-Za-z0-9]{8,11}\"}}]}\n",
    "        ]\n",
    "    ruler.add_patterns(patterns)\n",
    "    tokens = nlp(text)\n",
    "    return [ent[-1] for ent in tokens.ents]\n"
   ]
  },
  {
   "cell_type": "code",
   "execution_count": 43,
   "metadata": {},
   "outputs": [
    {
     "data": {
      "text/plain": [
       "[agilamcxx, creschzz80a]"
      ]
     },
     "execution_count": 43,
     "metadata": {},
     "output_type": "execute_result"
    }
   ],
   "source": [
    "file = 'C:/Users/PC2/Downloads/test-ex.txt'\n",
    "f=open(file,'r')\n",
    "data = f.read()\n",
    "find_swift(data)\n",
    "\n"
   ]
  },
  {
   "cell_type": "code",
   "execution_count": 44,
   "metadata": {},
   "outputs": [],
   "source": [
    "def check_imo_funct(imo_code):\n",
    "    if len(str(imo_code))!=7:\n",
    "        return False\n",
    "    else:\n",
    "        digits = [int(x) for x in str(imo_code)]\n",
    "        s=0\n",
    "        for i in range(len(digits)-1):\n",
    "            s+= digits[i]*(len(digits)-i)\n",
    "        if s%10==digits[6]:\n",
    "            return True\n",
    "        else :\n",
    "            return False\n",
    "\n"
   ]
  },
  {
   "cell_type": "code",
   "execution_count": 45,
   "metadata": {},
   "outputs": [],
   "source": [
    "def find_imo(text):    \n",
    "    if \"entity_ruler\" not in nlp.pipe_names:\n",
    "        ruler = nlp.add_pipe(\"entity_ruler\")\n",
    "    else:\n",
    "        ruler= nlp.get_pipe(\"entity_ruler\")\n",
    "    text = spacy_preprocessing(text)\n",
    "    # we use spacy s entity ruler for matching\n",
    "    patterns =[\n",
    "        #matches : imo 2313... or imo : 2313... ...\n",
    "        {\"label\":\"Code IMO\",\"pattern\":[{\"LOWER\":\"code\",\"OP\":\"?\"},{\"LOWER\":\"imo\"},{'IS_SPACE':True,'OP':'?'},{\"IS_PUNCT\":True,\"OP\":\"?\"},{\"TEXT\": {\"REGEX\": \"[0-9]{7}\"}}]},\n",
    "        #matches imo2343..., also 2313...(alone)\n",
    "        {\"label\":\"Code IMO\",\"pattern\":[{\"TEXT\": {\"REGEX\": \"^(IMO|imo)?[0-9]{7}\"}}]},\n",
    "         # matches imo(possible typo)(any special character)code\n",
    "        {\"label\":\"Code IMO\",\"pattern\":[{\"TEXT\": {\"REGEX\": \"^(imo)[a-z]?[!@#$%^&*()_+\\-=\\[\\]{};':'\\\\|,.<>\\/?][0-9]{7}\"}}]}\n",
    "        ]\n",
    "    ruler.add_patterns(patterns)\n",
    "    tokens = nlp(text)\n",
    "    l=[ent[-1] for ent in tokens.ents]\n",
    "    # we try to extract only the number to check if its really an imo\n",
    "    possible_imos=[]\n",
    "    for elt in l :\n",
    "        num= str(elt)[-7:]\n",
    "        possible_imos.append(num)\n",
    "    #check if imo:\n",
    "    imos = []\n",
    "    for num in possible_imos:\n",
    "        if check_imo_funct(num):\n",
    "            imos.append(num)\n",
    "    return imos\n"
   ]
  },
  {
   "cell_type": "code",
   "execution_count": 46,
   "metadata": {},
   "outputs": [
    {
     "name": "stderr",
     "output_type": "stream",
     "text": [
      "c:\\Users\\PC2\\anaconda3\\lib\\site-packages\\spacy\\pipeline\\lemmatizer.py:211: UserWarning: [W108] The rule-based lemmatizer did not find POS annotation for one or more tokens. Check that your pipeline includes components that assign token.pos, typically 'tagger'+'attribute_ruler' or 'morphologizer'.\n",
      "  warnings.warn(Warnings.W108)\n"
     ]
    },
    {
     "data": {
      "text/plain": [
       "['9619907']"
      ]
     },
     "execution_count": 46,
     "metadata": {},
     "output_type": "execute_result"
    }
   ],
   "source": [
    "text='Example: IMO 9619907  After submitting IMO number with SAERCH button current or last known position of the ship will be displayed on the map'\n",
    "find_imo(text)"
   ]
  },
  {
   "cell_type": "code",
   "execution_count": null,
   "metadata": {},
   "outputs": [],
   "source": []
  }
 ],
 "metadata": {
  "kernelspec": {
   "display_name": "Python 3.9.7 ('base')",
   "language": "python",
   "name": "python3"
  },
  "language_info": {
   "codemirror_mode": {
    "name": "ipython",
    "version": 3
   },
   "file_extension": ".py",
   "mimetype": "text/x-python",
   "name": "python",
   "nbconvert_exporter": "python",
   "pygments_lexer": "ipython3",
   "version": "3.9.7"
  },
  "orig_nbformat": 4,
  "vscode": {
   "interpreter": {
    "hash": "77b840b16efc606bfe6fe465e16c80fde01359cf425f7f37ae28958c7f375ddc"
   }
  }
 },
 "nbformat": 4,
 "nbformat_minor": 2
}
